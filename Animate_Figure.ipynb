{
 "cells": [
  {
   "cell_type": "markdown",
   "id": "85d475a9",
   "metadata": {},
   "source": [
    "# Creating Animated Figures\n",
    "This file creates an animated figure (GIF file) of the specified video and experimental electromyography (EMG) data collected.\n",
    "\n",
    "## Contributors\n",
    "Alex Duman, Ph.D. - primary and sole author of this script."
   ]
  },
  {
   "cell_type": "code",
   "execution_count": 42,
   "id": "78360a0b",
   "metadata": {},
   "outputs": [],
   "source": [
    "# Importing necessary packages\n",
    "import os\n",
    "import numpy as np\n",
    "import pandas as pd\n",
    "import matplotlib.pyplot as plt\n",
    "import cv2\n",
    "import glob\n",
    "import imageio"
   ]
  },
  {
   "cell_type": "markdown",
   "id": "9f332313",
   "metadata": {},
   "source": [
    "## Input Arguments\n",
    "Adjust these values in order to create a new GIF with different trials or data.\n",
    "\n",
    "<b>fileName</b> - the name of the file including the path where it is located\n",
    "\n",
    "<b>movieName</b> - the name of the movie file of interest, also including path as well\n",
    "\n",
    "<b>frameInc</b> - the increment to sample movie frames at, e.g. setting equal to 1 means the GIF will cycle through each                     frame of the movie while setting equal to 2 will only show every second frame of the movie in the final                     GIF\n",
    "\n",
    "<b>duration</b> - length in seconds of data you want shown in the GIF (e.g. 10 will produce a GIF of the first 10 seconds                     of data), must be equal or less than the shorter of the data and movie file"
   ]
  },
  {
   "cell_type": "code",
   "execution_count": 43,
   "id": "33517e87",
   "metadata": {},
   "outputs": [],
   "source": [
    "# INPUTS\n",
    "fileName = 'Run_Forced_Rotation_EMG.csv'\n",
    "movieName = 'Run_Forced_Rotation.mp4'\n",
    "frameInc = 2\n",
    "duration = 4 # seconds\n",
    "trialTitle = 'Forced Rotation'"
   ]
  },
  {
   "cell_type": "code",
   "execution_count": 44,
   "id": "364ead0e",
   "metadata": {},
   "outputs": [],
   "source": [
    "# Loading in Data\n",
    "Data = pd.read_csv(os.getcwd() + os.path.sep + 'data' + os.path.sep + fileName)\n",
    "\n",
    "# Want to make sure Data starts at time zero\n",
    "if Data.time[0] != 0:\n",
    "    Data.time = Data.time - Data.time[0] # adjust data so that initial time point is at time zero\n",
    "D_hz = 1/(Data.time[1] - Data.time[0]) # want to know data's sampling frequency to sync up with movie"
   ]
  },
  {
   "cell_type": "code",
   "execution_count": 45,
   "id": "a54e7a0c",
   "metadata": {},
   "outputs": [],
   "source": [
    "# Loading in Movie\n",
    "cap = cv2.VideoCapture(os.getcwd() + os.path.sep + 'data' + os.path.sep + movieName) # here cap(ture) represents the movieObj\n",
    "nFrames = int(cap.get(cv2.CAP_PROP_FRAME_COUNT))\n",
    "M_hz = cap.get(cv2.CAP_PROP_FPS) # frame rate of movie in fps or Hz\n",
    "Tot_frames = cap.get(cv2.CAP_PROP_FRAME_COUNT)\n",
    "\n",
    "# Determine Sample Ratio to synchronize video and data\n",
    "sampleRatio = D_hz/M_hz"
   ]
  },
  {
   "cell_type": "code",
   "execution_count": 46,
   "id": "ba55cc1d",
   "metadata": {},
   "outputs": [],
   "source": [
    "# Determine y-axes bounds for data\n",
    "def Find_y_bounds(y):\n",
    "    '''This function determines the minimum and maximum values for the vector y\n",
    "    so that when it is plotted it displays [y_min, y_max] where y_min and\n",
    "    y_max are 5% beyond the actualy minima and maxima values of y.\n",
    "    \n",
    "    INPUTS\n",
    "    y - numerical vector containing data interested in visualizing\n",
    "    \n",
    "    OUTPUTS\n",
    "    y_bound - the y-axis bounds for y that give a 5% buffer on either end\n",
    "              [y_min_bound, y_max_bound]\n",
    "    '''\n",
    "    delta_y = max(y)-min(y)\n",
    "    y_max_bound = max(y)+0.05*delta_y\n",
    "    y_min_bound = min(y)-0.05*delta_y\n",
    "    y_bound = np.array([y_min_bound, y_max_bound])\n",
    "    return y_bound\n",
    "\n",
    "# Finding each y-axes bounds for data\n",
    "y_bounds = np.zeros((len(Data.columns),2))\n",
    "for i in range(1,(len(Data.columns))):\n",
    "    y_bounds[i,:] = Find_y_bounds(Data.iloc[:,i]) # reported as [min, max]"
   ]
  },
  {
   "cell_type": "code",
   "execution_count": 47,
   "id": "12e51ded",
   "metadata": {},
   "outputs": [
    {
     "name": "stdout",
     "output_type": "stream",
     "text": [
      "Wall time: 2min 20s\n"
     ]
    }
   ],
   "source": [
    "%%time\n",
    "# Creating Series of Figures and Saving them as Images (to be later compiled into a single GIF)\n",
    "gif_frame = 1 # start off with frame 1 of gif\n",
    "\n",
    "for m in range(0, round(duration*M_hz), frameInc): # looping through all the frames of interest\n",
    "    \n",
    "    data_idx = round(m*sampleRatio) # index for data corresponding to specific movie frame\n",
    "    \n",
    "    if data_idx <= len(Data.iloc[:,0]): # only want to create figure to add to gif if we have data\n",
    "\n",
    "        # Creating Figure\n",
    "        fig = plt.figure(figsize = [13.33, 7.5], dpi = 300.0)\n",
    "\n",
    "        y_labels = ['LG Activity', 'MG Activity', 'RF Activity']\n",
    "\n",
    "        for i in range(1,5): # loop through to create each subplot\n",
    "            plt.subplot(4,1,i)\n",
    "    \n",
    "            if i == 1:\n",
    "                # Finding Movie Frame of Interest\n",
    "                cap.set(cv2.CAP_PROP_POS_FRAMES, m)\n",
    "                rval, frame_BGR = cap.read() # reads in Blue-Green-Red\n",
    "                frame = cv2.cvtColor(frame_BGR, cv2.COLOR_BGR2RGB) # formatted in RGB for matplotlib plotting\n",
    "                \n",
    "                # Movie axis\n",
    "                plt.axis('off')\n",
    "                plt.axes(arg = [0, 0.70, 1, 0.3]) # [left, bottom, width, height] all in fractional terms\n",
    "                plt.imshow(frame)\n",
    "                plt.text(30, 80, trialTitle, color = 'w', fontsize = 'large')\n",
    "                plt.axis('off')\n",
    "            else:\n",
    "                # Data axes\n",
    "                plt.ylabel(y_labels[i-2])\n",
    "                if i == 4:\n",
    "                    plt.xlabel('Time (s)')\n",
    "                plt.plot(Data.time, Data.iloc[:,i-1], color = [1,0.6,0.6])\n",
    "                plt.plot(Data.time, Data.iloc[:,i+2], color = [0.6,0.6,1])\n",
    "                plt.plot(Data.time[0:data_idx], Data.iloc[0:data_idx,i-1], color = [1,0,0])\n",
    "                plt.plot(Data.time[0:data_idx], Data.iloc[0:data_idx,i+2], color = [0,0,1])\n",
    "                plt.xlim((0, duration))\n",
    "                plt.ylim((min([y_bounds[i-1,0], y_bounds[i+2,0]]), max([y_bounds[i-1,1], y_bounds[i+2,1]])))\n",
    "\n",
    "        # Creating Appropriate Name to Save Figure (single frame within GIF)\n",
    "        if gif_frame < 10:\n",
    "            gif_frame_num = '000' + str(gif_frame)\n",
    "        elif gif_frame < 100:\n",
    "            gif_frame_num = '00' + str(gif_frame)\n",
    "        elif gif_frame < 1000:\n",
    "            gif_frame_num = '0' + str(gif_frame)\n",
    "        else: # only allows for gifs of <10,000 frames (anything that long should be considered for a video)\n",
    "            gif_frame_num = str(gif_frame)\n",
    "\n",
    "        # Save figure as image and then close it to reduce memory usage\n",
    "        plt.savefig('GIF_frame_' + gif_frame_num + '.jpg')\n",
    "        plt.close(fig)\n",
    "        \n",
    "        # Iterate to next frame in gif\n",
    "        gif_frame = gif_frame + 1"
   ]
  },
  {
   "cell_type": "code",
   "execution_count": 48,
   "id": "53bcc0e3",
   "metadata": {},
   "outputs": [
    {
     "name": "stdout",
     "output_type": "stream",
     "text": [
      "Wall time: 2min 15s\n"
     ]
    }
   ],
   "source": [
    "%%time\n",
    "# Creating GIF from Image Files\n",
    "filenames = glob.glob(os.getcwd() + os.path.sep + 'GIF_frame_*.jpg')\n",
    "with imageio.get_writer(os.getcwd() + os.path.sep + 'results' + os.path.sep + movieName[:-4] + '.gif', mode = 'I') as writer:\n",
    "    for file in filenames:\n",
    "        image = imageio.imread(file)\n",
    "        writer.append_data(image)\n",
    "\n",
    "# Removing GIF Images\n",
    "for file in filenames:\n",
    "    os.remove(file)"
   ]
  },
  {
   "cell_type": "code",
   "execution_count": 49,
   "id": "b63ab17c",
   "metadata": {},
   "outputs": [
    {
     "name": "stdout",
     "output_type": "stream",
     "text": [
      "All finished exporting GIF!\n"
     ]
    }
   ],
   "source": [
    "print('All finished exporting GIF!')"
   ]
  }
 ],
 "metadata": {
  "kernelspec": {
   "display_name": "Python 3",
   "language": "python",
   "name": "python3"
  },
  "language_info": {
   "codemirror_mode": {
    "name": "ipython",
    "version": 3
   },
   "file_extension": ".py",
   "mimetype": "text/x-python",
   "name": "python",
   "nbconvert_exporter": "python",
   "pygments_lexer": "ipython3",
   "version": "3.7.4"
  }
 },
 "nbformat": 4,
 "nbformat_minor": 5
}
